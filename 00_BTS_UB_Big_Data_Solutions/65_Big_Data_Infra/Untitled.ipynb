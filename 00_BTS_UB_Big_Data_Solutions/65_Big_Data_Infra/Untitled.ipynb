{
 "cells": [
  {
   "cell_type": "code",
   "execution_count": 1,
   "id": "clean-composite",
   "metadata": {},
   "outputs": [],
   "source": [
    "from cassandra.cluster import Cluster\n",
    "\n",
    "cluster = Cluster()"
   ]
  },
  {
   "cell_type": "code",
   "execution_count": 2,
   "id": "capital-bernard",
   "metadata": {},
   "outputs": [],
   "source": [
    "session = cluster.connect()"
   ]
  },
  {
   "cell_type": "code",
   "execution_count": null,
   "id": "international-still",
   "metadata": {},
   "outputs": [],
   "source": [
    "query = session.execute(\"\"\"CREATE KEYSPACE emp\n",
    "WITH replication = {'class':'SimpleStrategy', 'replication_factor' : 1};\"\"\")"
   ]
  },
  {
   "cell_type": "code",
   "execution_count": 3,
   "id": "informal-hypothesis",
   "metadata": {},
   "outputs": [
    {
     "name": "stdout",
     "output_type": "stream",
     "text": [
      "system_auth\n",
      "system_schema\n",
      "dse_system_local\n",
      "dse_system\n",
      "dse_leases\n",
      "solr_admin\n",
      "dse_insights\n",
      "dse_insights_local\n",
      "tutorialspoint\n",
      "system_distributed\n",
      "system_backups\n",
      "system\n",
      "emp\n",
      "dse_perf\n",
      "system_traces\n",
      "dse_security\n"
     ]
    }
   ],
   "source": [
    "query = session.execute(\"\"\"SELECT * FROM system_schema.keyspaces;\"\"\")\n",
    "for row in query:\n",
    "    print(row[0])"
   ]
  },
  {
   "cell_type": "code",
   "execution_count": null,
   "id": "native-income",
   "metadata": {},
   "outputs": [],
   "source": [
    "query = session.execute(\"\"\"USE emp;\"\"\")\n",
    "for row in query:\n",
    "    print(row)"
   ]
  },
  {
   "cell_type": "code",
   "execution_count": null,
   "id": "senior-approval",
   "metadata": {},
   "outputs": [],
   "source": [
    "query = session.execute(\"\"\"CREATE TABLE emp(\n",
    "   emp_id int PRIMARY KEY,\n",
    "   emp_name text,\n",
    "   emp_city text,\n",
    "   emp_sal varint,\n",
    "   emp_phone varint\n",
    "   );\"\"\")\n",
    "\n",
    "for row in query:\n",
    "    print(row)"
   ]
  },
  {
   "cell_type": "code",
   "execution_count": 8,
   "id": "outside-index",
   "metadata": {},
   "outputs": [],
   "source": [
    "query = session.execute(\"\"\"SELECT * FROM emp.emp;\"\"\")\n",
    "for row in query:\n",
    "    print(row)"
   ]
  },
  {
   "cell_type": "code",
   "execution_count": 11,
   "id": "outstanding-emission",
   "metadata": {},
   "outputs": [],
   "source": [
    "strings = [\"\"\"INSERT INTO emp.emp (emp_id, emp_name, emp_city, emp_phone, emp_sal) VALUES(1,'ram', 'Hyderabad', 9848022338, 50000);\"\"\",\n",
    "           \"\"\"INSERT INTO emp.emp (emp_id, emp_name, emp_city, emp_phone, emp_sal) VALUES(2,'robin', 'Hyderabad', 9848022339, 40000);\"\"\", \n",
    "           \"\"\"INSERT INTO emp.emp (emp_id, emp_name, emp_city,   emp_phone, emp_sal) VALUES(3,'rahman', 'Chennai', 9848022330, 45000);\"\"\"]"
   ]
  },
  {
   "cell_type": "code",
   "execution_count": 12,
   "id": "steady-creation",
   "metadata": {},
   "outputs": [],
   "source": [
    "for row in strings:\n",
    "    session.execute(row)"
   ]
  },
  {
   "cell_type": "code",
   "execution_count": 13,
   "id": "worse-avatar",
   "metadata": {},
   "outputs": [
    {
     "name": "stdout",
     "output_type": "stream",
     "text": [
      "Row(emp_id=1, emp_city='Hyderabad', emp_name='ram', emp_phone=9848022338, emp_sal=50000)\n",
      "Row(emp_id=2, emp_city='Hyderabad', emp_name='robin', emp_phone=9848022339, emp_sal=40000)\n",
      "Row(emp_id=3, emp_city='Chennai', emp_name='rahman', emp_phone=9848022330, emp_sal=45000)\n"
     ]
    }
   ],
   "source": [
    "query = session.execute(\"\"\"SELECT * FROM emp.emp;\"\"\")\n",
    "for row in query:\n",
    "    print(row)"
   ]
  },
  {
   "cell_type": "code",
   "execution_count": null,
   "id": "female-investigator",
   "metadata": {},
   "outputs": [],
   "source": []
  }
 ],
 "metadata": {
  "kernelspec": {
   "display_name": "Python 3",
   "language": "python",
   "name": "python3"
  },
  "language_info": {
   "codemirror_mode": {
    "name": "ipython",
    "version": 3
   },
   "file_extension": ".py",
   "mimetype": "text/x-python",
   "name": "python",
   "nbconvert_exporter": "python",
   "pygments_lexer": "ipython3",
   "version": "3.8.6"
  }
 },
 "nbformat": 4,
 "nbformat_minor": 5
}

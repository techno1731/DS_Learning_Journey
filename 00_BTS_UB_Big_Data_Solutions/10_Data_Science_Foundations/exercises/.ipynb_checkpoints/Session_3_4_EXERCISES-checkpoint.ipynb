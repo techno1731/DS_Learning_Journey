{
 "cells": [
  {
   "cell_type": "markdown",
   "metadata": {
    "id": "aUacJe1qJSCG"
   },
   "source": [
    "![BTS](https://github.com/vfp1/bts-dsf-2020/blob/main/Logo-BTS.jpg?raw=1)\n",
    "\n",
    "# Assignement Week 3 and 4\n",
    "\n",
    "### Victor F. Pajuelo Madrigal <victor.pajuelo@bts.tech> - Data Science Foundations (2020-10-29)\n",
    "\n",
    "Open this notebook in Google Colaboratory: [![Open in Colab](https://colab.research.google.com/assets/colab-badge.svg)](https://colab.research.google.com/github/vfp1/bts-dsf-2020/blob/main/exercises/Session_3_4_EXERCISES.ipynb)\n"
   ]
  },
  {
   "cell_type": "markdown",
   "metadata": {
    "id": "XMvnh2nqTxSZ"
   },
   "source": [
    "# PANDAS"
   ]
  },
  {
   "cell_type": "markdown",
   "metadata": {
    "id": "5Wc44wNaSCC3"
   },
   "source": [
    "## Groupby exersises\n",
    "\n",
    "Import this [dataset](https://raw.githubusercontent.com/justmarkham/DAT8/master/data/u.user)\n",
    "\n",
    "*   What is the mean age per occupation?\n",
    "*   What is the male ratio per occupation, sort it from the most to the least. Do the same for women\n",
    "*   For each occupation, calculate the minimum and maximum ages\n",
    "* For each combination of occupation and gender, calculate the mean age\n",
    "* For each occupation present the percentage of women and men\n",
    "\n"
   ]
  },
  {
   "cell_type": "code",
   "execution_count": null,
   "metadata": {
    "id": "ZTtitKD8rc5_"
   },
   "outputs": [],
   "source": []
  },
  {
   "cell_type": "markdown",
   "metadata": {
    "id": "2fCqx8EDTEr5"
   },
   "source": [
    "## Apply exercises\n",
    "\n",
    "Import this [dataset](https://raw.githubusercontent.com/vfp1/bts-dsf-2020/main/data/US_Crime_Rates_1960_2014.csv)\n",
    "\n",
    "* What is the type of the columns?\n",
    "* Convert the type of the column Year to datetime64\n",
    "* Set the Year column as the index of the dataframe\n",
    "* Delete the Total column\n",
    "* Group the year by decades and sum the values (take care with population values) \n",
    "* What is the most dangerous decade to live in the US?\n"
   ]
  },
  {
   "cell_type": "markdown",
   "metadata": {
    "id": "TtTjzzqEKs9W"
   },
   "source": [
    "# SQLite and Pandas"
   ]
  },
  {
   "cell_type": "markdown",
   "metadata": {
    "id": "kdc6MV8VPqnI"
   },
   "source": [
    "## SQLite, Pandas and the world of tips"
   ]
  },
  {
   "cell_type": "markdown",
   "metadata": {
    "id": "aAl6NWYfP-QR"
   },
   "source": [
    "Given [this](https://github.com/vfp1/bts-dsf-2020/blob/main/data/tips.csv) CSV file. Do the following:\n",
    "\n",
    "* Load it in Pandas\n",
    "* Save the `DataFrame` as SQLite\n",
    "* Reply the following questions by slicing the SQLite database with SQL queries and then using Pandas for analysis:\n",
    "    * Who is most likely to receive a tip during weekday? A Female or a Male? \n",
    "        * And during weekends?\n",
    "    * What is the table size that is most likely to bring a better tip?\n",
    "    * Who are giving more tips, smokers or non smokers? "
   ]
  },
  {
   "cell_type": "markdown",
   "metadata": {
    "id": "oMFekCoyPvkW"
   },
   "source": [
    "## More airports\n",
    "\n",
    "For extra points, plot the routs of incoming/outgoing destinations using Geopandas\n",
    " "
   ]
  },
  {
   "cell_type": "markdown",
   "metadata": {
    "id": "a_UsxZ2zQC85"
   },
   "source": [
    "Download [this Sqlite database](https://github.com/vfp1/bts-dsf-2020/raw/main/data/flights.db)\n",
    "\n",
    "Using SQLite database reply the following questions:\n",
    "\n",
    "*   Which is the country that has the least amount of active airlines?\n",
    "*   And which is the country that has the most amount of active airlines?\n",
    "*   Which is the country that has more airports?\n",
    "*   And the country with the least airports?\n",
    "*   Which country has the most outgoing destinations? And the least?\n",
    "*   And which country has the most incoming destinations? And the least?\n",
    "\n"
   ]
  },
  {
   "cell_type": "code",
   "execution_count": null,
   "metadata": {
    "id": "8o0sw6WcJY_Z"
   },
   "outputs": [],
   "source": []
  },
  {
   "cell_type": "markdown",
   "metadata": {
    "id": "63KZX3yeT6WV"
   },
   "source": [
    "# Kaggle Titanic\n",
    "\n",
    "Your first Kaggle challenge! \n",
    "\n",
    "Retrieve the csv (train) file from [this Kaggle challenge](https://www.kaggle.com/c/titanic/data?select=train.csv)\n",
    "\n",
    "Either here or through a Kaggle notebook (you will need to submit then this notebook with the rest of exercises and the Kaggle notebook).\n",
    "\n",
    "Reply to the following questions:\n",
    "\n",
    "\n",
    "\n",
    "1.   How many men and women survived?\n",
    "2.   What was the age group that had a higher survival chance? You can divide age groups in groups of 10 years\n",
    "3. Which port of embarkation had most of the survivors? And which less?\n",
    "4. Which ticket class had most of the survivors? And which less?\n",
    "5. Could you compare the ticket fare with the survival? Did more expensive tickets had higher chance of surviving?\n",
    "\n"
   ]
  },
  {
   "cell_type": "code",
   "execution_count": null,
   "metadata": {
    "id": "9i4cR0PQU9Qh"
   },
   "outputs": [],
   "source": []
  }
 ],
 "metadata": {
  "colab": {
   "collapsed_sections": [],
   "name": "Session_3_4_EXERCISES.ipynb",
   "provenance": [],
   "toc_visible": true
  },
  "kernelspec": {
   "display_name": "Python 3",
   "language": "python",
   "name": "python3"
  },
  "language_info": {
   "codemirror_mode": {
    "name": "ipython",
    "version": 3
   },
   "file_extension": ".py",
   "mimetype": "text/x-python",
   "name": "python",
   "nbconvert_exporter": "python",
   "pygments_lexer": "ipython3",
   "version": "3.8.6"
  }
 },
 "nbformat": 4,
 "nbformat_minor": 1
}

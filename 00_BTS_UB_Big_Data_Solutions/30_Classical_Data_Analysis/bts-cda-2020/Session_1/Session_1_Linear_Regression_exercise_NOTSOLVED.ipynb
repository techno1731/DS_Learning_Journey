{
  "nbformat": 4,
  "nbformat_minor": 0,
  "metadata": {
    "kernelspec": {
      "display_name": "Python 3",
      "language": "python",
      "name": "python3"
    },
    "language_info": {
      "codemirror_mode": {
        "name": "ipython",
        "version": 3
      },
      "file_extension": ".py",
      "mimetype": "text/x-python",
      "name": "python",
      "nbconvert_exporter": "python",
      "pygments_lexer": "ipython3",
      "version": "3.7.4"
    },
    "colab": {
      "name": "Session_1_Linear_Regression_exercise_NOTSOLVED.ipynb",
      "provenance": []
    }
  },
  "cells": [
    {
      "cell_type": "markdown",
      "metadata": {
        "id": "5xcYL9oHL6O_"
      },
      "source": [
        "\n",
        "![BTS](https://github.com/vfp1/bts-dsf-2020/raw/main/Logo-BTS.jpg)\n",
        "\n",
        "# Session 1: Linear Regression Code Assignement\n",
        "\n",
        "### Victor F. Pajuelo Madrigal <victor.pajuelo@bts.tech> - Classical Data Analysis (2020-12-21)\n",
        "\n",
        "Open this notebook in Google Colaboratory: [![Open in Colab](https://colab.research.google.com/assets/colab-badge.svg)](https://colab.research.google.com/github/vfp1/bts-cda-2020/blob/main/Session_1/Session_1_Linear_Regression_exercise_NOTSOLVED.ipynb)\n"
      ]
    },
    {
      "cell_type": "markdown",
      "metadata": {
        "id": "HfWNbqPQNthK"
      },
      "source": [
        "An Ecommerce company sells clothing online but they also have in-store style and clothing advice sessions. Customers come in to the store, have sessions/meetings with a personal stylist, then they can go home and order either on a mobile app or website for the clothes they want. The company is trying to decide whether to focus their efforts on their mobile app experience or their website. They need our help to figure it out! \n",
        "\n",
        "**When working on the assignment there could be multiple models to explore data or iplement specific analysis. Choose that you retain more appropriate but always justify every choice you make (e.g., why you choose some variables), comment your code, describe the plots and results you obtain.**\n",
        "\n",
        "Feel free to add many cells as you need to write your code, comments, answers, etc.\n",
        "\n"
      ]
    },
    {
      "cell_type": "markdown",
      "metadata": {
        "id": "3tlKnwq_L6PF"
      },
      "source": [
        "### Import libraries"
      ]
    },
    {
      "cell_type": "code",
      "metadata": {
        "id": "9xKRDl41L6PG"
      },
      "source": [
        "import matplotlib.pyplot as plt\n",
        "import seaborn as sns\n",
        "import numpy as np\n",
        "import pandas as pd\n",
        "from sklearn import datasets, linear_model\n",
        "from sklearn.metrics import mean_squared_error, r2_score"
      ],
      "execution_count": null,
      "outputs": []
    },
    {
      "cell_type": "markdown",
      "metadata": {
        "id": "B29He8W9L6PH"
      },
      "source": [
        "#### Code to avoid cell auto-scrolling"
      ]
    },
    {
      "cell_type": "code",
      "metadata": {
        "id": "L0wbAjeML6PH",
        "outputId": "666042a7-539e-4509-b646-e346cec8f344"
      },
      "source": [
        "%%javascript\n",
        "IPython.OutputArea.prototype._should_scroll = function(lines) {\n",
        "    return false;\n",
        "}"
      ],
      "execution_count": null,
      "outputs": [
        {
          "output_type": "display_data",
          "data": {
            "application/javascript": [
              "IPython.OutputArea.prototype._should_scroll = function(lines) {\n",
              "    return false;\n",
              "}\n"
            ],
            "text/plain": [
              "<IPython.core.display.Javascript object>"
            ]
          },
          "metadata": {
            "tags": []
          }
        }
      ]
    },
    {
      "cell_type": "markdown",
      "metadata": {
        "id": "qQb3FoLzL6PI"
      },
      "source": [
        "#### Read the dataset provided by the company: \n",
        "They provide us with a csv file `Ecommerce_Customers.csv`"
      ]
    },
    {
      "cell_type": "markdown",
      "metadata": {
        "id": "315gR3KoL6PJ"
      },
      "source": [
        "The dataset contains information about the customers:\n",
        "    - Email: email of the customer.\n",
        "    - Address: address of the customer.\n",
        "    - Avatar: color of the avatar.\n",
        "    - Avg. Session Length: Average session of in-store style advice sessions.\n",
        "    - Time on App: Average time spent on App in minutes\n",
        "    - Time on Website: Average time spent on Website in minutes\n",
        "    - Length of Membership: How many years the customer has been a member."
      ]
    },
    {
      "cell_type": "code",
      "metadata": {
        "scrolled": true,
        "id": "C9fRl1knL6PJ",
        "outputId": "8f497286-933b-4835-8f8c-16b99b7ab7d5"
      },
      "source": [
        "customers = pd.read_csv('Ecommerce_Customers.csv')\n",
        "customers.head(3)"
      ],
      "execution_count": null,
      "outputs": [
        {
          "output_type": "execute_result",
          "data": {
            "text/html": [
              "<div>\n",
              "<style scoped>\n",
              "    .dataframe tbody tr th:only-of-type {\n",
              "        vertical-align: middle;\n",
              "    }\n",
              "\n",
              "    .dataframe tbody tr th {\n",
              "        vertical-align: top;\n",
              "    }\n",
              "\n",
              "    .dataframe thead th {\n",
              "        text-align: right;\n",
              "    }\n",
              "</style>\n",
              "<table border=\"1\" class=\"dataframe\">\n",
              "  <thead>\n",
              "    <tr style=\"text-align: right;\">\n",
              "      <th></th>\n",
              "      <th>Email</th>\n",
              "      <th>Address</th>\n",
              "      <th>Avatar</th>\n",
              "      <th>Avg. Session Length</th>\n",
              "      <th>Time on App</th>\n",
              "      <th>Time on Website</th>\n",
              "      <th>Length of Membership</th>\n",
              "      <th>Yearly Amount Spent</th>\n",
              "    </tr>\n",
              "  </thead>\n",
              "  <tbody>\n",
              "    <tr>\n",
              "      <td>0</td>\n",
              "      <td>mstephenson@fernandez.com</td>\n",
              "      <td>835 Frank Tunnel\\nWrightmouth, MI 82180-9605</td>\n",
              "      <td>Violet</td>\n",
              "      <td>34.497268</td>\n",
              "      <td>12.655651</td>\n",
              "      <td>39.577668</td>\n",
              "      <td>4.082621</td>\n",
              "      <td>587.951054</td>\n",
              "    </tr>\n",
              "    <tr>\n",
              "      <td>1</td>\n",
              "      <td>hduke@hotmail.com</td>\n",
              "      <td>4547 Archer Common\\nDiazchester, CA 06566-8576</td>\n",
              "      <td>DarkGreen</td>\n",
              "      <td>31.926272</td>\n",
              "      <td>11.109461</td>\n",
              "      <td>37.268959</td>\n",
              "      <td>2.664034</td>\n",
              "      <td>392.204933</td>\n",
              "    </tr>\n",
              "    <tr>\n",
              "      <td>2</td>\n",
              "      <td>pallen@yahoo.com</td>\n",
              "      <td>24645 Valerie Unions Suite 582\\nCobbborough, D...</td>\n",
              "      <td>Bisque</td>\n",
              "      <td>33.000915</td>\n",
              "      <td>11.330278</td>\n",
              "      <td>37.110597</td>\n",
              "      <td>4.104543</td>\n",
              "      <td>487.547505</td>\n",
              "    </tr>\n",
              "  </tbody>\n",
              "</table>\n",
              "</div>"
            ],
            "text/plain": [
              "                       Email  \\\n",
              "0  mstephenson@fernandez.com   \n",
              "1          hduke@hotmail.com   \n",
              "2           pallen@yahoo.com   \n",
              "\n",
              "                                             Address     Avatar  \\\n",
              "0       835 Frank Tunnel\\nWrightmouth, MI 82180-9605     Violet   \n",
              "1     4547 Archer Common\\nDiazchester, CA 06566-8576  DarkGreen   \n",
              "2  24645 Valerie Unions Suite 582\\nCobbborough, D...     Bisque   \n",
              "\n",
              "   Avg. Session Length  Time on App  Time on Website  Length of Membership  \\\n",
              "0            34.497268    12.655651        39.577668              4.082621   \n",
              "1            31.926272    11.109461        37.268959              2.664034   \n",
              "2            33.000915    11.330278        37.110597              4.104543   \n",
              "\n",
              "   Yearly Amount Spent  \n",
              "0           587.951054  \n",
              "1           392.204933  \n",
              "2           487.547505  "
            ]
          },
          "metadata": {
            "tags": []
          },
          "execution_count": 67
        }
      ]
    },
    {
      "cell_type": "code",
      "metadata": {
        "id": "Al7rPtWCL6PJ",
        "outputId": "afbb28f0-00e8-4595-f923-270810c94e16"
      },
      "source": [
        "customers.describe()"
      ],
      "execution_count": null,
      "outputs": [
        {
          "output_type": "execute_result",
          "data": {
            "text/html": [
              "<div>\n",
              "<style scoped>\n",
              "    .dataframe tbody tr th:only-of-type {\n",
              "        vertical-align: middle;\n",
              "    }\n",
              "\n",
              "    .dataframe tbody tr th {\n",
              "        vertical-align: top;\n",
              "    }\n",
              "\n",
              "    .dataframe thead th {\n",
              "        text-align: right;\n",
              "    }\n",
              "</style>\n",
              "<table border=\"1\" class=\"dataframe\">\n",
              "  <thead>\n",
              "    <tr style=\"text-align: right;\">\n",
              "      <th></th>\n",
              "      <th>Avg. Session Length</th>\n",
              "      <th>Time on App</th>\n",
              "      <th>Time on Website</th>\n",
              "      <th>Length of Membership</th>\n",
              "      <th>Yearly Amount Spent</th>\n",
              "    </tr>\n",
              "  </thead>\n",
              "  <tbody>\n",
              "    <tr>\n",
              "      <td>count</td>\n",
              "      <td>500.000000</td>\n",
              "      <td>500.000000</td>\n",
              "      <td>500.000000</td>\n",
              "      <td>500.000000</td>\n",
              "      <td>500.000000</td>\n",
              "    </tr>\n",
              "    <tr>\n",
              "      <td>mean</td>\n",
              "      <td>33.053194</td>\n",
              "      <td>12.052488</td>\n",
              "      <td>37.060445</td>\n",
              "      <td>3.533462</td>\n",
              "      <td>499.314038</td>\n",
              "    </tr>\n",
              "    <tr>\n",
              "      <td>std</td>\n",
              "      <td>0.992563</td>\n",
              "      <td>0.994216</td>\n",
              "      <td>1.010489</td>\n",
              "      <td>0.999278</td>\n",
              "      <td>79.314782</td>\n",
              "    </tr>\n",
              "    <tr>\n",
              "      <td>min</td>\n",
              "      <td>29.532429</td>\n",
              "      <td>8.508152</td>\n",
              "      <td>33.913847</td>\n",
              "      <td>0.269901</td>\n",
              "      <td>256.670582</td>\n",
              "    </tr>\n",
              "    <tr>\n",
              "      <td>25%</td>\n",
              "      <td>32.341822</td>\n",
              "      <td>11.388153</td>\n",
              "      <td>36.349257</td>\n",
              "      <td>2.930450</td>\n",
              "      <td>445.038277</td>\n",
              "    </tr>\n",
              "    <tr>\n",
              "      <td>50%</td>\n",
              "      <td>33.082008</td>\n",
              "      <td>11.983231</td>\n",
              "      <td>37.069367</td>\n",
              "      <td>3.533975</td>\n",
              "      <td>498.887875</td>\n",
              "    </tr>\n",
              "    <tr>\n",
              "      <td>75%</td>\n",
              "      <td>33.711985</td>\n",
              "      <td>12.753850</td>\n",
              "      <td>37.716432</td>\n",
              "      <td>4.126502</td>\n",
              "      <td>549.313828</td>\n",
              "    </tr>\n",
              "    <tr>\n",
              "      <td>max</td>\n",
              "      <td>36.139662</td>\n",
              "      <td>15.126994</td>\n",
              "      <td>40.005182</td>\n",
              "      <td>6.922689</td>\n",
              "      <td>765.518462</td>\n",
              "    </tr>\n",
              "  </tbody>\n",
              "</table>\n",
              "</div>"
            ],
            "text/plain": [
              "       Avg. Session Length  Time on App  Time on Website  \\\n",
              "count           500.000000   500.000000       500.000000   \n",
              "mean             33.053194    12.052488        37.060445   \n",
              "std               0.992563     0.994216         1.010489   \n",
              "min              29.532429     8.508152        33.913847   \n",
              "25%              32.341822    11.388153        36.349257   \n",
              "50%              33.082008    11.983231        37.069367   \n",
              "75%              33.711985    12.753850        37.716432   \n",
              "max              36.139662    15.126994        40.005182   \n",
              "\n",
              "       Length of Membership  Yearly Amount Spent  \n",
              "count            500.000000           500.000000  \n",
              "mean               3.533462           499.314038  \n",
              "std                0.999278            79.314782  \n",
              "min                0.269901           256.670582  \n",
              "25%                2.930450           445.038277  \n",
              "50%                3.533975           498.887875  \n",
              "75%                4.126502           549.313828  \n",
              "max                6.922689           765.518462  "
            ]
          },
          "metadata": {
            "tags": []
          },
          "execution_count": 4
        }
      ]
    },
    {
      "cell_type": "markdown",
      "metadata": {
        "id": "5diG96Y4L6PK"
      },
      "source": [
        "### Exploatory Data analysis"
      ]
    },
    {
      "cell_type": "markdown",
      "metadata": {
        "id": "V8KeZ4gSL6PK"
      },
      "source": [
        "Perform some exploratory data analysis:\n",
        "    - Manual feature engineering. Is there any variable that do not make sense to take into account for your analysis? If yes, remove thos variables.\n",
        "    - Check for missing values\n",
        "    - check the distribution of the target variable to see if there is some outlier\n",
        "    - check which are the variables with highest correlation with the target variable\n",
        "    - check for multi-colinearity"
      ]
    },
    {
      "cell_type": "markdown",
      "metadata": {
        "id": "KVxLvOFyL6PL"
      },
      "source": [
        "**Manual feature engineering. Is there any variable that do not make sense to take into account for your analysis? If yes, explain why you think they are useless and remove them.**\n",
        "\n"
      ]
    },
    {
      "cell_type": "markdown",
      "metadata": {
        "id": "ZyGdNOFDL6PL"
      },
      "source": [
        "Write your answer here:\n",
        "\n",
        "\n",
        "\n",
        "\n"
      ]
    },
    {
      "cell_type": "code",
      "metadata": {
        "id": "7HD-3LksL6PL"
      },
      "source": [
        "#PUT YOUR CODE HERE\n",
        "\n",
        "## Add further cells in case you need\n",
        "\n"
      ],
      "execution_count": null,
      "outputs": []
    },
    {
      "cell_type": "markdown",
      "metadata": {
        "id": "qqKoiDtvL6PL"
      },
      "source": [
        "#### Check Missing values"
      ]
    },
    {
      "cell_type": "code",
      "metadata": {
        "id": "eu7QVPYxL6PM"
      },
      "source": [
        "#PUT YOUR CODE HERE\n",
        "\n",
        "## Add further cells in case you need\n",
        "\n"
      ],
      "execution_count": null,
      "outputs": []
    },
    {
      "cell_type": "markdown",
      "metadata": {
        "id": "6YN5phQ5L6PM"
      },
      "source": [
        "#### Check disttribution of the target variable"
      ]
    },
    {
      "cell_type": "code",
      "metadata": {
        "id": "nCLT6UI7L6PM"
      },
      "source": [
        "#PUT YOUR CODE HERE\n",
        "\n",
        "## Add further cells in case you need\n",
        "\n"
      ],
      "execution_count": null,
      "outputs": []
    },
    {
      "cell_type": "markdown",
      "metadata": {
        "id": "-2AT1y81L6PM"
      },
      "source": [
        "#### Check correlation among variables\n",
        "\n",
        "Explore the relation between each indipendent variable and the dipendent variable using multiple plots, among them also **jointplot** plots. \n",
        "    "
      ]
    },
    {
      "cell_type": "code",
      "metadata": {
        "id": "nhzBI49uL6PN"
      },
      "source": [
        "#PUT YOUR CODE HERE\n",
        "\n",
        "## Add further cells in case you need\n",
        "\n"
      ],
      "execution_count": null,
      "outputs": []
    },
    {
      "cell_type": "code",
      "metadata": {
        "id": "e5-NvR2SL6PN"
      },
      "source": [
        ""
      ],
      "execution_count": null,
      "outputs": []
    },
    {
      "cell_type": "code",
      "metadata": {
        "id": "5OWuzoJWL6PN"
      },
      "source": [
        ""
      ],
      "execution_count": null,
      "outputs": []
    },
    {
      "cell_type": "markdown",
      "metadata": {
        "id": "XtcPUPg1L6PN"
      },
      "source": [
        "## Predictive model"
      ]
    },
    {
      "cell_type": "markdown",
      "metadata": {
        "id": "Ji0qEB30L6PO"
      },
      "source": [
        "Now that we have explored a bit the data we want to create a predictive model to understand if \n",
        "the company should focus more on their mobile app experience or on their website.\n",
        "\n",
        "Or maybe there is some other apsect that is still more important and and the company should focus on it!!\n",
        "\n",
        "Let's implement a simple linear regression model (choose the variable you reatin more appropriate and explain why you chose it) and a multivariate model that uses multiple variables. \n",
        "\n",
        "Then, based on your preliminary exploratoy data analysis and on the models' results draw your conclusion."
      ]
    },
    {
      "cell_type": "markdown",
      "metadata": {
        "id": "Zmdt9MO3L6PO"
      },
      "source": [
        "### Simple linear regression"
      ]
    },
    {
      "cell_type": "code",
      "metadata": {
        "id": "SjEXkps2L6PO"
      },
      "source": [
        "# Prepare data for training\n",
        "\n",
        "#PUT YOUR CODE HERE\n",
        "\n",
        "## Add further cells in case you need\n",
        "\n"
      ],
      "execution_count": null,
      "outputs": []
    },
    {
      "cell_type": "markdown",
      "metadata": {
        "id": "bX4UJxVBL6PP"
      },
      "source": [
        "### Training and test splits\n",
        "Split the data into training and testing sets. We train the model with 75% of the samples and test with the remaining 25%. We do this to assess the model’s performance on unseen data. To split the data you may use ```scikit-learn library```. Finally print the sizes of our training and test set to verify if the splitting has occurred properly.\n",
        "\n",
        "**Use model_selection.train_test_split from sklearn to split the data into training and testing sets. Set random_state=5**"
      ]
    },
    {
      "cell_type": "code",
      "metadata": {
        "id": "Xtl2QI35L6PP"
      },
      "source": [
        "#PUT YOUR CODE HERE\n",
        "\n",
        "## Add further cells in case you need\n"
      ],
      "execution_count": null,
      "outputs": []
    },
    {
      "cell_type": "markdown",
      "metadata": {
        "id": "tSz1ou-1L6PP"
      },
      "source": [
        "### Training of the model"
      ]
    },
    {
      "cell_type": "code",
      "metadata": {
        "id": "FCYMLZTbL6PP"
      },
      "source": [
        "#PUT YOUR CODE HERE\n",
        "\n",
        "## Add further cells in case you need\n",
        "\n"
      ],
      "execution_count": null,
      "outputs": []
    },
    {
      "cell_type": "markdown",
      "metadata": {
        "id": "62pWgQcRL6PQ"
      },
      "source": [
        "#### Print the coeficients of the model"
      ]
    },
    {
      "cell_type": "code",
      "metadata": {
        "id": "0JwnBHB9L6PQ"
      },
      "source": [
        "#PUT YOUR CODE HERE\n",
        "\n",
        "## Add further cells in case you need\n",
        "\n",
        "\n",
        "\n"
      ],
      "execution_count": null,
      "outputs": []
    },
    {
      "cell_type": "markdown",
      "metadata": {
        "id": "GJafaC1eL6PQ"
      },
      "source": [
        "### Make a plot to show how the model fit the training data.\n",
        "\n",
        "Looking at the plot explain if the coefficients you found make sense"
      ]
    },
    {
      "cell_type": "code",
      "metadata": {
        "id": "sbxGWOMRL6PQ"
      },
      "source": [
        "#PUT YOUR CODE HERE\n",
        "\n",
        "## Add further cells in case you need\n",
        "\n",
        "\n"
      ],
      "execution_count": null,
      "outputs": []
    },
    {
      "cell_type": "markdown",
      "metadata": {
        "id": "wUnuIabIL6PQ"
      },
      "source": [
        "### Evaluate the model on the test set\n",
        "\n",
        "    - Make some plots you think maybe usefull to evaluate the predictions of our model and then evaluate it through some metrics."
      ]
    },
    {
      "cell_type": "markdown",
      "metadata": {
        "id": "S86izOZlL6PR"
      },
      "source": [
        "#### Evalution Metrics"
      ]
    },
    {
      "cell_type": "code",
      "metadata": {
        "id": "qDQXGMW3L6PR"
      },
      "source": [
        "#PUT YOUR CODE HERE\n",
        "\n",
        "## Add further cells in case you need\n",
        "\n",
        "\n",
        "\n"
      ],
      "execution_count": null,
      "outputs": []
    },
    {
      "cell_type": "markdown",
      "metadata": {
        "id": "je9REVm7L6PR"
      },
      "source": [
        "## Multivariate Model"
      ]
    },
    {
      "cell_type": "code",
      "metadata": {
        "id": "tgMxfO2yL6PR"
      },
      "source": [
        "# Prepare data for training\n",
        "\n",
        "#PUT YOUR CODE HERE\n",
        "\n",
        "## Add further cells in case you need\n",
        "\n"
      ],
      "execution_count": null,
      "outputs": []
    },
    {
      "cell_type": "markdown",
      "metadata": {
        "id": "g8b2XLOQL6PR"
      },
      "source": [
        "### Training and test splits\n",
        "Next, we split the data into training and testing sets. We train the model with 75% of the samples and test with the remaining 25%. We do this to assess the model’s performance on unseen data. To split the data you may use ```scikit-learn library```. Finally print the sizes of our training and test set to verify if the splitting has occurred properly.\n",
        "\n",
        "**Use model_selection.train_test_split from sklearn to split the data into training and testing sets. Set random_state=5**"
      ]
    },
    {
      "cell_type": "code",
      "metadata": {
        "id": "yuGg3fkfL6PS"
      },
      "source": [
        "#PUT YOUR CODE HERE\n",
        "\n",
        "## Add further cells in case you need\n",
        "\n",
        "\n"
      ],
      "execution_count": null,
      "outputs": []
    },
    {
      "cell_type": "markdown",
      "metadata": {
        "id": "sDrCpYWoL6PS"
      },
      "source": [
        "### Training of the model"
      ]
    },
    {
      "cell_type": "code",
      "metadata": {
        "id": "AvVtxWo_L6PS"
      },
      "source": [
        "#PUT YOUR CODE HERE\n",
        "\n",
        "## Add further cells in case you need\n",
        "\n",
        "\n",
        "\n"
      ],
      "execution_count": null,
      "outputs": []
    },
    {
      "cell_type": "markdown",
      "metadata": {
        "id": "d4oBkwslL6PT"
      },
      "source": [
        "#### Print the coeficients of the model"
      ]
    },
    {
      "cell_type": "code",
      "metadata": {
        "id": "KpwacODIL6PT"
      },
      "source": [
        "#PUT YOUR CODE HERE\n",
        "\n",
        "## Add further cells in case you need\n",
        "\n",
        "\n",
        "\n"
      ],
      "execution_count": null,
      "outputs": []
    },
    {
      "cell_type": "markdown",
      "metadata": {
        "id": "zOSOVrVnL6PT"
      },
      "source": [
        "### Evaluate the model on the test set\n",
        "\n",
        "    - Make some plots you think maybe usefull to evaluate the predictions of our model and then evaluate it through some metrics."
      ]
    },
    {
      "cell_type": "markdown",
      "metadata": {
        "id": "JLt_Vvr7L6PT"
      },
      "source": [
        "#### Evalution Metrics"
      ]
    },
    {
      "cell_type": "code",
      "metadata": {
        "id": "l2hFPFEPL6PT"
      },
      "source": [
        "#PUT YOUR CODE HERE\n",
        "\n",
        "## Add further cells in case you need\n",
        "\n"
      ],
      "execution_count": null,
      "outputs": []
    },
    {
      "cell_type": "markdown",
      "metadata": {
        "id": "Qme11aJOL6PU"
      },
      "source": [
        "#### Which model has better performance?"
      ]
    },
    {
      "cell_type": "markdown",
      "metadata": {
        "id": "0QeE6noeL6PU"
      },
      "source": [
        "Write your answer here:\n",
        "\n",
        "\n",
        "\n",
        "\n"
      ]
    },
    {
      "cell_type": "markdown",
      "metadata": {
        "id": "L0o-jgQ0L6PU"
      },
      "source": [
        "**Describe how you interpret the coefficients of the model and based on that decide how the company shoud behave in order to try to improve their business increasing the `Yearly Amount Spent` per customenr.**"
      ]
    },
    {
      "cell_type": "code",
      "metadata": {
        "id": "vb3c_dSbL6PU"
      },
      "source": [
        ""
      ],
      "execution_count": null,
      "outputs": []
    },
    {
      "cell_type": "markdown",
      "metadata": {
        "id": "NqMHZLVPL6PU"
      },
      "source": [
        "Write your answer here:\n",
        "\n",
        "\n",
        "\n",
        "\n",
        "\n",
        "\n"
      ]
    }
  ]
}
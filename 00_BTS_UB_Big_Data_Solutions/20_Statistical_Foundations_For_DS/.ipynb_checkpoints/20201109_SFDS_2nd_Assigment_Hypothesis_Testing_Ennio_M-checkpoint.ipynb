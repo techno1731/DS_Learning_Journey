{
 "cells": [
  {
   "cell_type": "markdown",
   "metadata": {},
   "source": [
    "![bts_logo](bts_logo.png)\n",
    "# Assignment II\n",
    "### *By Ennio Maldonado*\n",
    "---\n",
    "Second graded assignment of the course. There is not only one way to do some of the sections. Feel free to add some extra sections if you consider them interesting!"
   ]
  },
  {
   "cell_type": "code",
   "execution_count": null,
   "metadata": {},
   "outputs": [],
   "source": [
    "# Preliminaries:\n",
    "import matplotlib.pyplot as plt\n",
    "import pandas as pd\n",
    "import numpy as np\n",
    "import statsmodels"
   ]
  },
  {
   "cell_type": "markdown",
   "metadata": {},
   "source": [
    "1. Generate a list/array with the height of the population of Barcelona (1620343 inhab), where the mean is 173 cm and the standard deviation is 9.5 cm. Height is normally distributed."
   ]
  },
  {
   "cell_type": "code",
   "execution_count": 168,
   "metadata": {},
   "outputs": [
    {
     "data": {
      "text/html": [
       "<div>\n",
       "<style scoped>\n",
       "    .dataframe tbody tr th:only-of-type {\n",
       "        vertical-align: middle;\n",
       "    }\n",
       "\n",
       "    .dataframe tbody tr th {\n",
       "        vertical-align: top;\n",
       "    }\n",
       "\n",
       "    .dataframe thead th {\n",
       "        text-align: right;\n",
       "    }\n",
       "</style>\n",
       "<table border=\"1\" class=\"dataframe\">\n",
       "  <thead>\n",
       "    <tr style=\"text-align: right;\">\n",
       "      <th></th>\n",
       "      <th>height</th>\n",
       "    </tr>\n",
       "  </thead>\n",
       "  <tbody>\n",
       "    <tr>\n",
       "      <th>0</th>\n",
       "      <td>151.767797</td>\n",
       "    </tr>\n",
       "    <tr>\n",
       "      <th>1</th>\n",
       "      <td>185.069538</td>\n",
       "    </tr>\n",
       "    <tr>\n",
       "      <th>2</th>\n",
       "      <td>166.071762</td>\n",
       "    </tr>\n",
       "    <tr>\n",
       "      <th>3</th>\n",
       "      <td>185.912899</td>\n",
       "    </tr>\n",
       "    <tr>\n",
       "      <th>4</th>\n",
       "      <td>161.505925</td>\n",
       "    </tr>\n",
       "  </tbody>\n",
       "</table>\n",
       "</div>"
      ],
      "text/plain": [
       "       height\n",
       "0  151.767797\n",
       "1  185.069538\n",
       "2  166.071762\n",
       "3  185.912899\n",
       "4  161.505925"
      ]
     },
     "execution_count": 168,
     "metadata": {},
     "output_type": "execute_result"
    }
   ],
   "source": [
    "mu = 173\n",
    "sigma = 9.5\n",
    "height = pd.DataFrame(np.random.normal(mu, sigma, 1620343), columns=['height'])\n",
    "height.head()"
   ]
  },
  {
   "cell_type": "markdown",
   "metadata": {},
   "source": [
    "2. Plot the distribution of the population (not the mean)"
   ]
  },
  {
   "cell_type": "code",
   "execution_count": 169,
   "metadata": {},
   "outputs": [
    {
     "data": {
      "image/png": "[encoded data removed]",
      "text/plain": [
       "<Figure size 432x288 with 1 Axes>"
      ]
     },
     "metadata": {
      "needs_background": "light"
     },
     "output_type": "display_data"
    }
   ],
   "source": [
    "count, bins, ignored = plt.hist(height, 50, density=True)\n",
    "plt.plot(bins, 1/(sigma * np.sqrt(2 * np.pi)) * np.exp( - (bins - mu)**2 / (2 * sigma**2) ), linewidth=2, color='r', label='Density'),\n",
    "plt.axvline(x=173, color='k', label='Mean')\n",
    "plt.legend()\n",
    "plt.show()"
   ]
  },
  {
   "cell_type": "markdown",
   "metadata": {},
   "source": [
    "3. How many cases are considered outliers? (we can use the definition of being above/below 1.5 x IQR, or 3 x IQR if we want to be more restrictive)"
   ]
  },
  {
   "cell_type": "code",
   "execution_count": 170,
   "metadata": {},
   "outputs": [
    {
     "name": "stdout",
     "output_type": "stream",
     "text": [
      "There are 11292 minor outliers (1.5 * IQR) and 6 major outliers (3 * IQR) in the data\n"
     ]
    }
   ],
   "source": [
    "Q75 = np.percentile(height.height, 75)\n",
    "Q25 = np.percentile(height.height, 25)\n",
    "IQR = Q75 - Q25\n",
    "minor = [Q25 - 1.5*IQR, Q75 + 1.5*IQR]\n",
    "major = [Q25 - 3*IQR, Q75 + 3*IQR]\n",
    "\n",
    "height = height.assign(minor_out = lambda x:((x['height'] > minor[0]) & (x['height'] < minor[1])))\n",
    "height = height.assign(major_out = lambda x:((x['height'] > major[0]) & (x['height'] < major[1])))\n",
    "minor_outliers = height.minor_out.value_counts()\n",
    "major_outliers = height.major_out.value_counts()\n",
    "\n",
    "print(f\"There are {minor_outliers[0]} minor outliers (1.5 * IQR) and {major_outliers[0]} major outliers (3 * IQR) in the data\")"
   ]
  },
  {
   "cell_type": "markdown",
   "metadata": {},
   "source": [
    "4. Generate a sample of 50 individuals, and using the Z-test, test $H_0 = 173$ against $H_1 \\neq 173$. Use a confidence of 90%, 95%, 95.5% and 99%. Do you get different conclusions?\n",
    "\n",
    "Remember: Confidence (and significance) are arbitrary values!! You use them as a threshold, but you never see them in the functions! Is what you use to decide if the values are extreme enough given some amount of risk"
   ]
  },
  {
   "cell_type": "code",
   "execution_count": 178,
   "metadata": {},
   "outputs": [],
   "source": [
    "# Sample\n",
    "sample_height = height.height.sample(50, replace=True)"
   ]
  },
  {
   "cell_type": "code",
   "execution_count": 199,
   "metadata": {},
   "outputs": [],
   "source": [
    "# Define a function to test for confidence levels.\n",
    "def confidence(zscore):\n",
    "    if zscore[0] < 1.28:\n",
    "        h0 = [1, 0]\n",
    "    elif ((zscore[0] > 1.28) & (zscore[0] < 1.645)):\n",
    "        h0 = [0, 80]\n",
    "    elif ((zscore[0] > 1.645) & (zscore[0] < 1.96)):\n",
    "        h0 = [0, 90]\n",
    "    elif ((zscore[0] > 1.96) & (zscore[0] < 2.58)):\n",
    "        h0 = [0, 95]\n",
    "    elif zscore[0] > 2.58:\n",
    "        h0 = [0, 99]\n",
    "    return h0\n"
   ]
  },
  {
   "cell_type": "code",
   "execution_count": 195,
   "metadata": {},
   "outputs": [
    {
     "name": "stdout",
     "output_type": "stream",
     "text": [
      "Value of 173 has a Z-score of (0.8028892287113785, 0.4220387622919005) for the null Hypothesis, meaning that we cannot reject the null that 173 is the mean at any confidence level.\n"
     ]
    }
   ],
   "source": [
    "zscore = ztest(sample_height, value= 173)\n",
    "hzero = confidence(zscore)\n",
    "\n",
    "if hzero  == [1, 0]:\n",
    "    print(f\"Value of 173 has a Z-score of {zscore} for the null Hypothesis, meaning that we cannot reject the null that 173 is the mean at any confidence level.\")\n",
    "elif hzero  == [0, 80]:\n",
    "    print(f\"Value of 173 has a Z-score of {zscore} for the null Hypothesis, meaning that we can reject the null with a confidence of 80%.\")\n",
    "elif hzero  == [0, 90]:\n",
    "    print(f\"Value of 173 has a Z-score of {zscore} for the null Hypothesis, meaning that we can reject the null with a confidence of 90%.\")\n",
    "elif hzero  == [0, 95]:\n",
    "    print(f\"Value of 173 has a Z-score of {zscore} for the null Hypothesis, meaning that we can reject the null with a confidence of 95%.\")\n",
    "elif hzero  == [0, 99]:\n",
    "        print(f\"Value of 173 has a Z-score of {zscore} for the null Hypothesis, meaning that we can reject the null with a confidence of 99%.\")\n"
   ]
  },
  {
   "cell_type": "markdown",
   "metadata": {},
   "source": [
    "4.1 Draw the Z-test for the population mean"
   ]
  },
  {
   "cell_type": "code",
   "execution_count": 185,
   "metadata": {},
   "outputs": [
    {
     "data": {
      "image/png": "[encoded data removed]",
      "text/plain": [
       "<Figure size 432x288 with 1 Axes>"
      ]
     },
     "metadata": {
      "needs_background": "light"
     },
     "output_type": "display_data"
    }
   ],
   "source": [
    "# Plotting the normal with mu = 173 and sigma = 9.5\n",
    "count, bins, ignored = plt.hist(height.height, 100, density=True, alpha=0.1)\n",
    "normal_form = 1/(sigma * np.sqrt(2 * np.pi)) * np.exp( - (bins - mu)**2 / (2 * sigma**2) )\n",
    "plt.plot(bins, normal_form, linewidth=2, color='r', label='Density'),\n",
    "\n",
    "#Adding the shading for the zscore region\n",
    "bins_z = np.array([bin for bin in bins if ((bin > (mu - zscore[0] * sigma)) &\n",
    "                                  (bin < (mu + zscore[0] * sigma)))])\n",
    "normal_form_z = 1/(sigma * np.sqrt(2 * np.pi)) * np.exp( - (bins_z - mu)**2 / (2 * sigma**2) )\n",
    "plt.fill_between(bins_z,normal_form_z,0, alpha= 0.2, color='b', label=f\"zcore: {round(zscore[0],5)}\")\n",
    "\n",
    "#Show plot\n",
    "plt.legend()\n",
    "plt.show()\n"
   ]
  },
  {
   "cell_type": "markdown",
   "metadata": {},
   "source": [
    "4.2 Does it change a lot if we test $H_0 = 173$ against $H_1 > 173$ ? Explain the differences"
   ]
  },
  {
   "cell_type": "code",
   "execution_count": 187,
   "metadata": {},
   "outputs": [
    {
     "name": "stdout",
     "output_type": "stream",
     "text": [
      "Two-sided --> difference in means not equal to value: 0.4220387622919005\n",
      "larger --> difference in means larger than value: 0.21101938114595026\n",
      "\n",
      "A smaller zscore in a one sided test is expected compared to a two sided test, in this case the one sided test is aprox half of the two sided test, which means that the distribution of the sample is aprox normal with mu close to 173.\n"
     ]
    }
   ],
   "source": [
    "zscore_larger = ztest(sample_height, value= 173, alternative='larger')\n",
    "print(f\"Two-sided --> difference in means not equal to value: {zscore[1]}\")\n",
    "print(f\"larger --> difference in means larger than value: {zscore_larger[1]}\")\n",
    "print(\"\\nA smaller zscore in a one sided test is expected compared to a two sided test, in this case the one sided test is aprox half of the two sided test, which means that the distribution of the sample is aprox normal with mu close to 173.\")"
   ]
  },
  {
   "cell_type": "markdown",
   "metadata": {},
   "source": [
    "5. Now we are going to generate 10000 samples of 50 individuals. For each of them, I want to apply the previous procedure, Z-test with 90, 95, 95.5 and 99% confidence! At the end, I want to see how many times I accepted $H_0$ and how many times I rejected it (which means I assume $H_1$ is happening) for each of them. Does it fit what we should expect?\n",
    "\n",
    "Show it graphically"
   ]
  },
  {
   "cell_type": "code",
   "execution_count": 190,
   "metadata": {
    "scrolled": true
   },
   "outputs": [
    {
     "data": {
      "text/plain": [
       "(10000, 50)"
      ]
     },
     "execution_count": 190,
     "metadata": {},
     "output_type": "execute_result"
    }
   ],
   "source": [
    "# Generate samples\n",
    "n = 10000\n",
    "exp_sample_height = np.array([height.height.sample(50, replace=True) for i in range(n)])"
   ]
  },
  {
   "cell_type": "code",
   "execution_count": 223,
   "metadata": {},
   "outputs": [
    {
     "name": "stdout",
     "output_type": "stream",
     "text": [
      "Total times H0 was not rejected [1, 0]: 1\n",
      "0    8965\n",
      "dtype: int64\n",
      "\n",
      "Total times H0 was rejected and with which confidence [0, xx]: 1\n",
      "80    503\n",
      "90    264\n",
      "95    214\n",
      "99     54\n",
      "dtype: int64\n"
     ]
    },
    {
     "data": {
      "text/plain": [
       "<matplotlib.legend.Legend at 0x7f9721875970>"
      ]
     },
     "execution_count": 223,
     "metadata": {},
     "output_type": "execute_result"
    },
    {
     "data": {
      "image/png": "[encoded data removed]",
      "text/plain": [
       "<Figure size 432x288 with 1 Axes>"
      ]
     },
     "metadata": {
      "needs_background": "light"
     },
     "output_type": "display_data"
    }
   ],
   "source": [
    "# Test Hypotesis\n",
    "\n",
    "hzeros_array = pd.DataFrame([confidence(ztest(sample,value=173)) for sample in exp_sample_height])\n",
    "total = hzeros_array.value_counts()\n",
    "print(f\"Total times H0 was not rejected [1, 0]: {total[1]}\")\n",
    "print(f\"\\nTotal times H0 was rejected and with which confidence [0, xx]: {total[0]}\")\n",
    "\n",
    "hzeros_array.value_counts().plot(kind='bar', label=\" 0 = H0 Rejected\", title='H0 test 173')\n",
    "plt.legend()"
   ]
  },
  {
   "cell_type": "markdown",
   "metadata": {},
   "source": [
    "6.  Replicate the previous point, testing $H_0 = 180$ against $H_1 \\neq 180$. How many times have you accepted $H_0$? Can you link these results with the errors of type I and II?"
   ]
  },
  {
   "cell_type": "code",
   "execution_count": 225,
   "metadata": {},
   "outputs": [
    {
     "name": "stdout",
     "output_type": "stream",
     "text": [
      "Total times H0 was not rejected [1, 0]: 1\n",
      "0    10000\n",
      "dtype: int64\n"
     ]
    },
    {
     "data": {
      "text/plain": [
       "<matplotlib.legend.Legend at 0x7f97250f09a0>"
      ]
     },
     "execution_count": 225,
     "metadata": {},
     "output_type": "execute_result"
    },
    {
     "data": {
      "image/png": "[encoded data removed]",
      "text/plain": [
       "<Figure size 432x288 with 1 Axes>"
      ]
     },
     "metadata": {
      "needs_background": "light"
     },
     "output_type": "display_data"
    }
   ],
   "source": [
    "hzeros_array_2 = pd.DataFrame([confidence(ztest(sample,value=180)) for sample in exp_sample_height])\n",
    "total_2 = hzeros_array_2.value_counts()\n",
    "print(f\"Total times H0 was not rejected [1, 0]: {total_2[1]}\")\n",
    "#print(f\"\\nTotal times H0 was rejected and with which confidence [0, xx]: {total_2[0]}\")\n",
    "\n",
    "hzeros_array_2.value_counts().plot(kind='bar', label=\" 0 = H0 Rejected\", title='H0 test 180')\n",
    "plt.legend()"
   ]
  },
  {
   "cell_type": "markdown",
   "metadata": {},
   "source": [
    "(Extra) 7. Test if the amount of outliers you have affects the final outcome of the test (for example, in section 5). You should face it like \"is it more likely that I reject the null Hypothesis if I have more outliers?\". It is an open exercise, so there is no \"correct\" way\n",
    "\n",
    "HINT: Maybe this very last exercise makes more sense with only right-side outliers and the test suggested in *section 4.2*"
   ]
  },
  {
   "cell_type": "code",
   "execution_count": 229,
   "metadata": {},
   "outputs": [],
   "source": [
    "# IN theory outliers do affect the mean and the standard deviation thus affecting the results of the test.-\n",
    "# Copy to a new DataFrame\n",
    "height2 = height.copy()"
   ]
  },
  {
   "cell_type": "code",
   "execution_count": 312,
   "metadata": {},
   "outputs": [],
   "source": [
    "# Add lower outliers to upper outliers from minor fence 1.5 * IQR\n",
    "height2.loc[(height2.minor_out==False), 'height'] = minor[1]"
   ]
  },
  {
   "cell_type": "code",
   "execution_count": 339,
   "metadata": {},
   "outputs": [
    {
     "name": "stdout",
     "output_type": "stream",
     "text": [
      "Two-sided --> difference in means not equal to value: 0.01202562469641606\n",
      "larger --> difference in means larger than value: 0.00601281234820803\n"
     ]
    }
   ],
   "source": [
    "sample_height2 = height2.height.sample(50, replace=True)\n",
    "zscore = ztest(sample_height2, value= 173)\n",
    "zscore_larger = ztest(sample_height2, value= 173, alternative='larger')\n",
    "print(f\"Two-sided --> difference in means not equal to value: {zscore[1]}\")\n",
    "print(f\"larger --> difference in means larger than value: {zscore_larger[1]}\")"
   ]
  },
  {
   "cell_type": "code",
   "execution_count": null,
   "metadata": {},
   "outputs": [],
   "source": []
  }
 ],
 "metadata": {
  "kernelspec": {
   "display_name": "Python 3",
   "language": "python",
   "name": "python3"
  },
  "language_info": {
   "codemirror_mode": {
    "name": "ipython",
    "version": 3
   },
   "file_extension": ".py",
   "mimetype": "text/x-python",
   "name": "python",
   "nbconvert_exporter": "python",
   "pygments_lexer": "ipython3",
   "version": "3.8.6"
  }
 },
 "nbformat": 4,
 "nbformat_minor": 2
}
